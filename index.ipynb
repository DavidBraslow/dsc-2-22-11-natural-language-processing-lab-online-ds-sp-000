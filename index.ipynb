{
 "cells": [
  {
   "cell_type": "markdown",
   "metadata": {},
   "source": [
    "# Word Vectorization - Lab\n",
    "\n",
    "## Introduction\n",
    "\n",
    "In this lab, we'll learn how tokenize and vectorize text documents, create an use a Bag of Words, and identify words unique to individual documents using TF-IDF Vectorization. \n",
    "\n",
    "## Objectives\n",
    "\n",
    "You will be able to: \n",
    "\n",
    "* Tokenize a corpus of words and identify the different choices to be made while parsing them\n",
    "* Use a Count Vectorization strategy to create a Bag of Words\n",
    "* Use TF-IDF Vectorization with multiple documents to identify words that are important/unique to certain documents\n",
    "\n",
    "## Let's get started!\n",
    "\n",
    "Run the cell below to import everything necessary for this lab.  "
   ]
  },
  {
   "cell_type": "code",
   "execution_count": 64,
   "metadata": {},
   "outputs": [],
   "source": [
    "import pandas as pd\n",
    "import numpy as np\n",
    "import re\n",
    "import math\n",
    "from mpl_toolkits.mplot3d import Axes3D\n",
    "import matplotlib.pyplot as plt\n",
    "%matplotlib inline\n",
    "from sklearn.manifold import TSNE\n",
    "from nltk.tokenize import word_tokenize\n",
    "np.random.seed(0)"
   ]
  },
  {
   "cell_type": "markdown",
   "metadata": {},
   "source": [
    "### Our Corpus\n",
    "\n",
    "In this lab, we'll be working with 20 different documents, each containing song lyrics from either Garth Brooks or Kendrick Lamar albums.  \n",
    "\n",
    "The songs are contained within the `data` subdirectory, contained within the same folder as this lab.  Each song is stored in a single file, with files ranging from `song1.txt` to `song20.txt`.  \n",
    "\n",
    "To make it easy to read in all of the documents, use a list comprehension to create a list containing the name of every single song file in the cell below. "
   ]
  },
  {
   "cell_type": "code",
   "execution_count": 65,
   "metadata": {},
   "outputs": [
    {
     "data": {
      "text/plain": [
       "['data/song1.txt',\n",
       " 'data/song2.txt',\n",
       " 'data/song3.txt',\n",
       " 'data/song4.txt',\n",
       " 'data/song5.txt',\n",
       " 'data/song6.txt',\n",
       " 'data/song7.txt',\n",
       " 'data/song8.txt',\n",
       " 'data/song9.txt',\n",
       " 'data/song10.txt',\n",
       " 'data/song11.txt',\n",
       " 'data/song12.txt',\n",
       " 'data/song13.txt',\n",
       " 'data/song14.txt',\n",
       " 'data/song15.txt',\n",
       " 'data/song16.txt',\n",
       " 'data/song17.txt',\n",
       " 'data/song18.txt',\n",
       " 'data/song19.txt',\n",
       " 'data/song20.txt']"
      ]
     },
     "execution_count": 65,
     "metadata": {},
     "output_type": "execute_result"
    }
   ],
   "source": [
    "filenames = ['data/song{}.txt'.format(x) for x in range(1,21)]\n",
    "filenames"
   ]
  },
  {
   "cell_type": "markdown",
   "metadata": {},
   "source": [
    "Next, let's import a single song to see what our text looks like so that we can make sure we clean and tokenize it correctly. \n",
    "\n",
    "In the cell below, read in and print out the lyrics from `song11.txt`.  Use vanilla python, no pandas needed.  "
   ]
  },
  {
   "cell_type": "code",
   "execution_count": 66,
   "metadata": {},
   "outputs": [
    {
     "data": {
      "text/plain": [
       "str"
      ]
     },
     "execution_count": 66,
     "metadata": {},
     "output_type": "execute_result"
    }
   ],
   "source": [
    "f11= open('data/song11.txt', mode = 'r')\n",
    "type(f11.read())"
   ]
  },
  {
   "cell_type": "markdown",
   "metadata": {},
   "source": [
    "### Tokenizing our Data\n",
    "\n",
    "Before we can create a Bag of Words or vectorize each document, we need to clean it up and split each song into an array of individual words.  Computers are very particular about strings. If we tokenized our data in it's current state, we would run into the following problems:\n",
    "\n",
    "1. Counting things that aren't actually words.  In the example above, `\"[Kendrick]\"` is a note specifying who is speaking, not a lyric contained in the actual song, so it should be removed.  \n",
    "1. Punctuation and capitalization would mess up our word counts.  To the python interpreter, `love`, `Love`, `Love?`, and `Love\\n` are all unique words, and would all be counted separately.  We need to remove punctuation and capitalization, so that all words will be counted correctly. \n",
    "\n",
    "Consider the following sentences from the example above:\n",
    "\n",
    "`\"Love, let's talk about love\\n\", 'Is it anything and everything you hoped for?\\n'`\n",
    "\n",
    "After tokenization, this should look like:\n",
    "\n",
    "`['love', 'let's', 'talk', 'about', 'love', 'is', 'it', 'anything', 'and', 'everything', 'you', 'hoped', 'for']`\n",
    "\n",
    "Tokenization is pretty tedious if we handle it manually, and would probably make use of Regular Expressions, which is outside the scope of this lab.  In order to keep this lab moving, we'll use a library function to clean and tokenize our data so that we can move onto vectorization.  \n",
    "\n",
    "Tokenization is a required task for just about any Natural Language Processing (NLP) task, so great industry-standard tools exist to tokenize things for us, so that we can spend our time on more important tasks without getting bogged down hunting every special symbol or punctuation in a massive dataset. For this lab, we'll make use of the tokenizer in the amazing `nltk` library, which is short for _Natural Language Tool Kit_.\n",
    "\n",
    "**_NOTE:_** NLTK requires extra installation methods to be run the first time certain methods are used.  If `nltk` throws you an error about needing to install additional packages, follow the instructions in the error message to install the dependencies, and then rerun the cell.  \n",
    "\n",
    "Before we tokenize our songs, we'll do only a small manual bit of cleaning.  In the cell below, write a function that allows us to remove lines that have `['artist names']` in it, to ensure that our song files contain only lyrics that are actually in the song. For the lines that remain, make every word lowercase, remove newline characters `\\n`, and any of the following punctuation marks: `\",.'?!\"`\n",
    "\n",
    "Test the function on `test_song` to show that it has successfully removed `'[Kendrick Lamar:]'` and other instances of artist names from the song and returned it.  "
   ]
  },
  {
   "cell_type": "code",
   "execution_count": 85,
   "metadata": {},
   "outputs": [
    {
     "name": "stdout",
     "output_type": "stream",
     "text": [
      "[Kendrick Lamar:]\n",
      "Love, let's talk about love\n",
      "Is it anything and everything you hoped for?\n",
      "Or do the feeling haunt you?\n",
      "I know the feeling haunt you\n",
      "[SZA:]\n",
      "This may be the night that my dreams might let me know\n",
      "All the stars approach you, all the stars approach you, all the stars approach you\n",
      "This may be the night that my dreams might let me know\n",
      "All the stars are closer, all the stars are closer, all the stars are closer\n",
      "[Kendrick Lamar:]\n",
      "Tell me what you gon' do to me\n",
      "Confrontation ain't nothin' new to me\n",
      "You can bring a bullet, bring a sword, bring a morgue\n",
      "But you can't bring the truth to me\n",
      "Fuck you and all your expectations\n",
      "I don't even want your congratulations\n",
      "I recognize your false confidence\n",
      "And calculated promises all in your conversation\n",
      "I hate people that feel entitled\n",
      "Look at me crazy 'cause I ain't invite you\n",
      "Oh, you important?\n",
      "You the moral to the story? You endorsin'?\n",
      "Motherfucker, I don't even like you\n",
      "Corrupt a man's heart with a gift\n",
      "That's how you find out who you dealin' with\n",
      "A small percentage who I'm buildin' with\n",
      "I want the credit if I'm losin' or I'm winnin'\n",
      "On my momma, that's the realest shit\n",
      "Love, let's talk about love\n",
      "Is it anything and everything you hoped for?\n",
      "Or do the feeling haunt you?\n",
      "I know the feeling haunt you\n",
      "[SZA:]\n",
      "This may be the night that my dreams might let me know\n",
      "All the stars approach you, all the stars approach you, all the stars approach you\n",
      "This may be the night that my dreams might let me know\n",
      "All the stars are closer, all the stars are closer, all the stars are closer\n",
      "Skin covered in ego\n",
      "Get to talkin' like ya involved, like a rebound\n",
      "Got no end game, got no reason\n",
      "Got to stay down, it's the way that you making me feel\n",
      "Like nobody ever loved me like you do, you do\n",
      "You kinda feeling like you're tryna get away from me\n",
      "If you do, I won't move\n",
      "I ain't just cryin' for no reason\n",
      "I ain't just prayin' for no reason\n",
      "I give thanks for the days, for the hours\n",
      "And another way, another life breathin'\n",
      "I did it all 'cause it feel good\n",
      "I wouldn't do it at all if it feel bad\n",
      "Better live your life, we're runnin' out of time\n",
      "[Kendrick Lamar & SZA:]\n",
      "Love, let's talk about love\n",
      "Is it anything and everything you hoped for?\n",
      "Or do the feeling haunt you?\n",
      "I know the feeling haunt you\n",
      "[SZA:]\n",
      "This may be the night that my dreams might let me know\n",
      "All the stars approach you, all the stars approach you, all the stars approach you\n",
      "This may be the night that my dreams might let me know\n",
      "All the stars are closer, all the stars are closer, all the stars are closer\n",
      "\n",
      "\n",
      "love lets talk about love is it anything and everything you hoped for or do the feeling haunt you i know the feeling haunt you this may be the night that my dreams might let me know all the stars approach you all the stars approach you all the stars approach you this may be the night that my dreams might let me know all the stars are closer all the stars are closer all the stars are closer tell me what you gon do to me confrontation aint nothin new to me you can bring a bullet bring a sword bring a morgue but you cant bring the truth to me fuck you and all your expectations i dont even want your congratulations i recognize your false confidence and calculated promises all in your conversation i hate people that feel entitled look at me crazy cause i aint invite you oh you important you the moral to the story you endorsin motherfucker i dont even like you corrupt a mans heart with a gift thats how you find out who you dealin with a small percentage who im buildin with i want the credit if im losin or im winnin on my momma thats the realest shit love lets talk about love is it anything and everything you hoped for or do the feeling haunt you i know the feeling haunt you this may be the night that my dreams might let me know all the stars approach you all the stars approach you all the stars approach you this may be the night that my dreams might let me know all the stars are closer all the stars are closer all the stars are closer skin covered in ego get to talkin like ya involved like a rebound got no end game got no reason got to stay down its the way that you making me feel like nobody ever loved me like you do you do you kinda feeling like youre tryna get away from me if you do i wont move i aint just cryin for no reason i aint just prayin for no reason i give thanks for the days for the hours and another way another life breathin i did it all cause it feel good i wouldnt do it at all if it feel bad better live your life were runnin out of time love lets talk about love is it anything and everything you hoped for or do the feeling haunt you i know the feeling haunt you this may be the night that my dreams might let me know all the stars approach you all the stars approach you all the stars approach you this may be the night that my dreams might let me know all the stars are closer all the stars are closer all the stars are closer\n"
     ]
    }
   ],
   "source": [
    "f11= open('data/song11.txt', mode = 'r')\n",
    "f11_text = f11.read()\n",
    "def clean_song(song):\n",
    "    remove_brackets = re.compile(\"\\[(.*?)\\]\")\n",
    "    song_no_brackets = remove_brackets.sub(\"\",song)\n",
    "    \n",
    "    remove_chars = re.compile(\"[,.'`?!()”]\")\n",
    "    song_no_chars = remove_chars.sub(\"\", song_no_brackets)\n",
    "    \n",
    "    remove_line_breaks = song_no_chars.replace(\"\\n\",\" \")\n",
    "    remove_spaces = remove_line_breaks.replace(\"  \",\" \").strip()\n",
    "    return remove_spaces.lower()\n",
    "\n",
    "song_without_brackets = clean_song(f11_text)\n",
    "print(f11_text)\n",
    "print(\"\")\n",
    "print(song_without_brackets)"
   ]
  },
  {
   "cell_type": "markdown",
   "metadata": {},
   "source": [
    "Great. Now, write a function that takes in songs that have had their brackets removed, joins all of the lines into a single string, and then uses `tokenize()` on it to get a fully tokenized version of the song.  Test this funtion on `song_without_brackets` to ensure that the function works. "
   ]
  },
  {
   "cell_type": "code",
   "execution_count": 86,
   "metadata": {},
   "outputs": [
    {
     "name": "stderr",
     "output_type": "stream",
     "text": [
      "[nltk_data] Downloading package punkt to\n",
      "[nltk_data]     C:\\Users\\david_000\\AppData\\Roaming\\nltk_data...\n",
      "[nltk_data]   Package punkt is already up-to-date!\n"
     ]
    },
    {
     "data": {
      "text/plain": [
       "True"
      ]
     },
     "execution_count": 86,
     "metadata": {},
     "output_type": "execute_result"
    }
   ],
   "source": [
    "import nltk\n",
    "nltk.download('punkt')"
   ]
  },
  {
   "cell_type": "code",
   "execution_count": 87,
   "metadata": {},
   "outputs": [
    {
     "data": {
      "text/plain": [
       "['love',\n",
       " 'lets',\n",
       " 'talk',\n",
       " 'about',\n",
       " 'love',\n",
       " 'is',\n",
       " 'it',\n",
       " 'anything',\n",
       " 'and',\n",
       " 'everything']"
      ]
     },
     "execution_count": 87,
     "metadata": {},
     "output_type": "execute_result"
    }
   ],
   "source": [
    "def tokenize(song):\n",
    "    return word_tokenize(song)\n",
    "\n",
    "tokenized_test_song = tokenize(song_without_brackets)\n",
    "tokenized_test_song[:10]"
   ]
  },
  {
   "cell_type": "markdown",
   "metadata": {},
   "source": [
    "Great! Now that we know the ability to tokenize our songs, we can move onto Vectorization. \n",
    "\n",
    "### Count Vectorization\n",
    "\n",
    "Machine Learning algorithms don't understand strings.  However, they do understand math, which means they understand vectors and matrices.  By **_Vectorizing_** the text, we just convert the entire text into a vector, where each element in the vector represents a different word.  The vector is the length of the entire vocabulary--usually, every word that occurs in the English language, or at least every word that appears in our corpus.  Any given sentence can then be represented as a vector where all the vector is 1 (or some other value) for each time that word appears in the sentence. \n",
    "\n",
    "Consider the following example: \n",
    "\n",
    "<center>\"I scream, you scream, we all scream for ice cream.\"</center>\n",
    "\n",
    "| 'aardvark' | 'apple' | [...] | 'I' | 'you' | 'scream' | 'we' | 'all' | 'for' | 'ice' | 'cream' | [...] | 'xylophone' | 'zebra' |\n",
    "|:----------:|:-------:|:-----:|:---:|:-----:|:--------:|:----:|:-----:|:-----:|:-----:|:-------:|:-----:|:-----------:|:-------:|\n",
    "|      0     |    0    |   0   |  1  |   1   |     3    |   1  |   1   |   1   |   1   |    1    |   0   |      0      |    0    |\n",
    "\n",
    "This is called a **_Sparse Representation_**, since the strong majority of the columns will have a value of 0.  Note that elements corresponding to words that do not occur in the sentence have a value of 0, while words that do appear in the sentence have a value of 1 (or 1 for each time it appears in the sentence).\n",
    "\n",
    "Alternatively, we can represent this sentence as a plain old python dictionary of word frequency counts:\n",
    "\n",
    "```python\n",
    "BoW = {\n",
    "    'I':1,\n",
    "    'you':1,\n",
    "    'scream':3,\n",
    "    'we':1,\n",
    "    'all':1,\n",
    "    'for':1,\n",
    "    'ice':1,\n",
    "    'cream':1\n",
    "}\n",
    "```\n",
    "\n",
    "Both of these are examples of **_Count Vectorization_**. They allow us to represent a sentence as a vector, with each element in the vector corresponding to how many times that word is used.\n",
    "\n",
    "#### Positional Information and Bag of Words\n",
    "\n",
    "Notice that when we vectorize a sentence this way, we lose the order that the words were in.  This is the **_Bag of Words_** approach mentioned earlier.  Note that sentences that contain the same words will create the same vectors, even if they mean different things--e.g. `'cats are scared of dogs'` and `'dogs are scared of cats'` would both produce the exact same vector, since they contain the same words.  \n",
    "\n",
    "In the cell below, create a function that takes in a tokenized, cleaned song and returns a Count Vectorized representation of it as a python dictionary. Add in an optional parameter called `vocab` that defaults to `None`. This way, if we are using a vocabulary that contains words not seen in the song, we can still use this function by passing it in to the `vocab` parameter. \n",
    "\n",
    "**_Hint:_**  Consider using a `set` object to make this easier!"
   ]
  },
  {
   "cell_type": "code",
   "execution_count": 88,
   "metadata": {},
   "outputs": [
    {
     "name": "stdout",
     "output_type": "stream",
     "text": [
      "{'days': 1, 'find': 1, 'thanks': 1, 'with': 3, 'prayin': 1, 'but': 1, 'involved': 1, 'stay': 1, 'if': 3, 'do': 8, 'bring': 4, 'confidence': 1, 'on': 1, 'to': 6, 'runnin': 1, 'are': 9, 'just': 2, 'the': 38, 'me': 14, 'way': 2, 'rebound': 1, 'hate': 1, 'im': 3, 'game': 1, 'breathin': 1, 'like': 6, 'truth': 1, 'percentage': 1, 'crazy': 1, 'be': 6, 'bullet': 1, 'give': 1, 'losin': 1, 'heart': 1, 'all': 22, 'sword': 1, 'that': 8, 'got': 3, 'did': 1, 'momma': 1, 'bad': 1, 'story': 1, 'youre': 1, 'dreams': 6, 'get': 2, 'life': 2, 'cant': 1, 'moral': 1, 'no': 4, 'haunt': 6, 'tryna': 1, 'aint': 4, 'nothin': 1, 'might': 6, 'morgue': 1, 'false': 1, 'ever': 1, 'even': 2, 'who': 2, 'know': 9, 'i': 15, 'away': 1, 'this': 6, 'cause': 2, 'out': 2, 'ego': 1, 'talk': 3, 'people': 1, 'what': 1, 'oh': 1, 'endorsin': 1, 'promises': 1, 'confrontation': 1, 'mans': 1, 'dealin': 1, 'reason': 3, 'tell': 1, 'it': 7, 'dont': 2, 'buildin': 1, 'lets': 3, 'hoped': 3, 'good': 1, 'thats': 2, 'down': 1, 'how': 1, 'move': 1, 'another': 2, 'gon': 1, 'ya': 1, 'is': 3, 'at': 2, 'end': 1, 'feel': 4, 'congratulations': 1, 'in': 2, 'wouldnt': 1, 'invite': 1, 'expectations': 1, 'may': 6, 'covered': 1, 'approach': 9, 'look': 1, 'realest': 1, 'closer': 9, 'important': 1, 'for': 7, 'love': 6, 'my': 7, 'hours': 1, 'stars': 18, 'credit': 1, 'better': 1, 'gift': 1, 'recognize': 1, 'were': 1, 'corrupt': 1, 'feeling': 7, 'talkin': 1, 'shit': 1, 'let': 6, 'from': 1, 'making': 1, 'wont': 1, 'time': 1, 'small': 1, 'its': 1, 'of': 1, 'anything': 3, 'kinda': 1, 'want': 2, 'or': 4, 'motherfucker': 1, 'you': 34, 'calculated': 1, 'fuck': 1, 'new': 1, 'conversation': 1, 'loved': 1, 'live': 1, 'everything': 3, 'night': 6, 'can': 1, 'winnin': 1, 'and': 6, 'skin': 1, 'a': 7, 'nobody': 1, 'cryin': 1, 'about': 3, 'your': 5, 'entitled': 1}\n"
     ]
    }
   ],
   "source": [
    "def count_vectorize(song, vocab=None):\n",
    "    if vocab:\n",
    "        word_set = set(song).union(set(vocab))\n",
    "    else:\n",
    "        word_set = set(song)\n",
    "        \n",
    "    word_dict = dict.fromkeys(word_set,0)\n",
    "    \n",
    "    for word in song:\n",
    "        word_dict[word] = word_dict[word]+1\n",
    "    \n",
    "    return word_dict\n",
    "\n",
    "test_vectorized = count_vectorize(tokenized_test_song)\n",
    "print(test_vectorized)"
   ]
  },
  {
   "cell_type": "markdown",
   "metadata": {},
   "source": [
    "Great! You've just successfully vectorized your first text document! Now, let's look at a more advanced type of vectorization, TF-IDF!\n",
    "\n",
    "### TF-IDF Vectorization\n",
    "\n",
    "TF-IDF stands for **_Term Frequency, Inverse Document Frequency_**.  This is a more advanced form of vectorization that weights each term in a document by how unique it is to the given document it is contained in, which allows us to summarize the contents of a document using a few key words.  If the word is used often in many other documents, it is not unique, and therefore probably not too useful if we wanted to figure out how this document is unique in relation to other documents.  Conversely, if a word is used many times in a document, but rarely in all the other documents we are considering, then it is likely a good indicator for telling us that this word is important to the document in question.  \n",
    "\n",
    "The formula TF-IDF uses to determine the weights of each term in a document is **_Term Frequency_** multipled by **_Inverse Document Frequency_**, where the formula for Term Frequency is:\n",
    "\n",
    "$$\\large Term\\ Frequency(t) = \\frac{number\\ of\\ times\\ t\\ appears\\ in\\ a\\ document} {total\\ number\\ of\\ terms\\ in\\ the\\ document} $$\n",
    "<br>\n",
    "<br>\n",
    "Complete the following function below to calculate term frequency for every term in a document.  "
   ]
  },
  {
   "cell_type": "raw",
   "metadata": {},
   "source": []
  },
  {
   "cell_type": "code",
   "execution_count": null,
   "metadata": {},
   "outputs": [],
   "source": []
  },
  {
   "cell_type": "code",
   "execution_count": 89,
   "metadata": {},
   "outputs": [
    {
     "data": {
      "text/plain": [
       "[1,\n",
       " 1,\n",
       " 1,\n",
       " 3,\n",
       " 1,\n",
       " 1,\n",
       " 1,\n",
       " 1,\n",
       " 3,\n",
       " 8,\n",
       " 4,\n",
       " 1,\n",
       " 1,\n",
       " 6,\n",
       " 1,\n",
       " 9,\n",
       " 2,\n",
       " 38,\n",
       " 14,\n",
       " 2,\n",
       " 1,\n",
       " 1,\n",
       " 3,\n",
       " 1,\n",
       " 1,\n",
       " 6,\n",
       " 1,\n",
       " 1,\n",
       " 1,\n",
       " 6,\n",
       " 1,\n",
       " 1,\n",
       " 1,\n",
       " 1,\n",
       " 22,\n",
       " 1,\n",
       " 8,\n",
       " 3,\n",
       " 1,\n",
       " 1,\n",
       " 1,\n",
       " 1,\n",
       " 1,\n",
       " 6,\n",
       " 2,\n",
       " 2,\n",
       " 1,\n",
       " 1,\n",
       " 4,\n",
       " 6,\n",
       " 1,\n",
       " 4,\n",
       " 1,\n",
       " 6,\n",
       " 1,\n",
       " 1,\n",
       " 1,\n",
       " 2,\n",
       " 2,\n",
       " 9,\n",
       " 15,\n",
       " 1,\n",
       " 6,\n",
       " 2,\n",
       " 2,\n",
       " 1,\n",
       " 3,\n",
       " 1,\n",
       " 1,\n",
       " 1,\n",
       " 1,\n",
       " 1,\n",
       " 1,\n",
       " 1,\n",
       " 1,\n",
       " 3,\n",
       " 1,\n",
       " 7,\n",
       " 2,\n",
       " 1,\n",
       " 3,\n",
       " 3,\n",
       " 1,\n",
       " 2,\n",
       " 1,\n",
       " 1,\n",
       " 1,\n",
       " 2,\n",
       " 1,\n",
       " 1,\n",
       " 3,\n",
       " 2,\n",
       " 1,\n",
       " 4,\n",
       " 1,\n",
       " 2,\n",
       " 1,\n",
       " 1,\n",
       " 1,\n",
       " 6,\n",
       " 1,\n",
       " 9,\n",
       " 1,\n",
       " 1,\n",
       " 9,\n",
       " 1,\n",
       " 7,\n",
       " 6,\n",
       " 7,\n",
       " 1,\n",
       " 18,\n",
       " 1,\n",
       " 1,\n",
       " 1,\n",
       " 1,\n",
       " 1,\n",
       " 1,\n",
       " 7,\n",
       " 1,\n",
       " 1,\n",
       " 6,\n",
       " 1,\n",
       " 1,\n",
       " 1,\n",
       " 1,\n",
       " 1,\n",
       " 1,\n",
       " 1,\n",
       " 3,\n",
       " 1,\n",
       " 2,\n",
       " 4,\n",
       " 1,\n",
       " 34,\n",
       " 1,\n",
       " 1,\n",
       " 1,\n",
       " 1,\n",
       " 1,\n",
       " 1,\n",
       " 3,\n",
       " 6,\n",
       " 1,\n",
       " 1,\n",
       " 6,\n",
       " 1,\n",
       " 7,\n",
       " 1,\n",
       " 1,\n",
       " 3,\n",
       " 5,\n",
       " 1]"
      ]
     },
     "execution_count": 89,
     "metadata": {},
     "output_type": "execute_result"
    }
   ],
   "source": [
    "list(test_vectorized.values())"
   ]
  },
  {
   "cell_type": "code",
   "execution_count": 90,
   "metadata": {},
   "outputs": [
    {
     "name": "stdout",
     "output_type": "stream",
     "text": [
      "{'days': 0.0020833333333333333, 'find': 0.0020833333333333333, 'thanks': 0.0020833333333333333, 'with': 0.00625, 'prayin': 0.0020833333333333333, 'but': 0.0020833333333333333, 'involved': 0.0020833333333333333, 'stay': 0.0020833333333333333, 'if': 0.00625, 'do': 0.016666666666666666, 'bring': 0.008333333333333333, 'confidence': 0.0020833333333333333, 'on': 0.0020833333333333333, 'to': 0.0125, 'runnin': 0.0020833333333333333, 'are': 0.01875, 'just': 0.004166666666666667, 'the': 0.07916666666666666, 'me': 0.029166666666666667, 'way': 0.004166666666666667, 'rebound': 0.0020833333333333333, 'hate': 0.0020833333333333333, 'im': 0.00625, 'game': 0.0020833333333333333, 'breathin': 0.0020833333333333333, 'like': 0.0125, 'truth': 0.0020833333333333333, 'percentage': 0.0020833333333333333, 'crazy': 0.0020833333333333333, 'be': 0.0125, 'bullet': 0.0020833333333333333, 'give': 0.0020833333333333333, 'losin': 0.0020833333333333333, 'heart': 0.0020833333333333333, 'all': 0.04583333333333333, 'sword': 0.0020833333333333333, 'that': 0.016666666666666666, 'got': 0.00625, 'did': 0.0020833333333333333, 'momma': 0.0020833333333333333, 'bad': 0.0020833333333333333, 'story': 0.0020833333333333333, 'youre': 0.0020833333333333333, 'dreams': 0.0125, 'get': 0.004166666666666667, 'life': 0.004166666666666667, 'cant': 0.0020833333333333333, 'moral': 0.0020833333333333333, 'no': 0.008333333333333333, 'haunt': 0.0125, 'tryna': 0.0020833333333333333, 'aint': 0.008333333333333333, 'nothin': 0.0020833333333333333, 'might': 0.0125, 'morgue': 0.0020833333333333333, 'false': 0.0020833333333333333, 'ever': 0.0020833333333333333, 'even': 0.004166666666666667, 'who': 0.004166666666666667, 'know': 0.01875, 'i': 0.03125, 'away': 0.0020833333333333333, 'this': 0.0125, 'cause': 0.004166666666666667, 'out': 0.004166666666666667, 'ego': 0.0020833333333333333, 'talk': 0.00625, 'people': 0.0020833333333333333, 'what': 0.0020833333333333333, 'oh': 0.0020833333333333333, 'endorsin': 0.0020833333333333333, 'promises': 0.0020833333333333333, 'confrontation': 0.0020833333333333333, 'mans': 0.0020833333333333333, 'dealin': 0.0020833333333333333, 'reason': 0.00625, 'tell': 0.0020833333333333333, 'it': 0.014583333333333334, 'dont': 0.004166666666666667, 'buildin': 0.0020833333333333333, 'lets': 0.00625, 'hoped': 0.00625, 'good': 0.0020833333333333333, 'thats': 0.004166666666666667, 'down': 0.0020833333333333333, 'how': 0.0020833333333333333, 'move': 0.0020833333333333333, 'another': 0.004166666666666667, 'gon': 0.0020833333333333333, 'ya': 0.0020833333333333333, 'is': 0.00625, 'at': 0.004166666666666667, 'end': 0.0020833333333333333, 'feel': 0.008333333333333333, 'congratulations': 0.0020833333333333333, 'in': 0.004166666666666667, 'wouldnt': 0.0020833333333333333, 'invite': 0.0020833333333333333, 'expectations': 0.0020833333333333333, 'may': 0.0125, 'covered': 0.0020833333333333333, 'approach': 0.01875, 'look': 0.0020833333333333333, 'realest': 0.0020833333333333333, 'closer': 0.01875, 'important': 0.0020833333333333333, 'for': 0.014583333333333334, 'love': 0.0125, 'my': 0.014583333333333334, 'hours': 0.0020833333333333333, 'stars': 0.0375, 'credit': 0.0020833333333333333, 'better': 0.0020833333333333333, 'gift': 0.0020833333333333333, 'recognize': 0.0020833333333333333, 'were': 0.0020833333333333333, 'corrupt': 0.0020833333333333333, 'feeling': 0.014583333333333334, 'talkin': 0.0020833333333333333, 'shit': 0.0020833333333333333, 'let': 0.0125, 'from': 0.0020833333333333333, 'making': 0.0020833333333333333, 'wont': 0.0020833333333333333, 'time': 0.0020833333333333333, 'small': 0.0020833333333333333, 'its': 0.0020833333333333333, 'of': 0.0020833333333333333, 'anything': 0.00625, 'kinda': 0.0020833333333333333, 'want': 0.004166666666666667, 'or': 0.008333333333333333, 'motherfucker': 0.0020833333333333333, 'you': 0.07083333333333333, 'calculated': 0.0020833333333333333, 'fuck': 0.0020833333333333333, 'new': 0.0020833333333333333, 'conversation': 0.0020833333333333333, 'loved': 0.0020833333333333333, 'live': 0.0020833333333333333, 'everything': 0.00625, 'night': 0.0125, 'can': 0.0020833333333333333, 'winnin': 0.0020833333333333333, 'and': 0.0125, 'skin': 0.0020833333333333333, 'a': 0.014583333333333334, 'nobody': 0.0020833333333333333, 'cryin': 0.0020833333333333333, 'about': 0.00625, 'your': 0.010416666666666666, 'entitled': 0.0020833333333333333}\n",
      "['bring', 'confidence', 'on', 'to', 'runnin', 'are', 'just', 'the', 'me', 'way']\n"
     ]
    }
   ],
   "source": [
    "def term_frequency(BoW_dict):\n",
    "    word_set = BoW_dict.keys()\n",
    "    num_terms = sum(list(BoW_dict.values()))\n",
    "    tf_dict = dict.fromkeys(word_set)\n",
    "    for word in word_set:\n",
    "        tf_dict[word] = BoW_dict[word]/num_terms\n",
    "    return tf_dict\n",
    "\n",
    "test = term_frequency(test_vectorized)\n",
    "print(test)\n",
    "print(list(test)[10:20])"
   ]
  },
  {
   "cell_type": "markdown",
   "metadata": {},
   "source": [
    "The formula for Inverse Document Frequency is:  \n",
    "<br>  \n",
    "<br>\n",
    "$$\\large  IDF(t) =  log_e(\\frac{Total\\ Number\\ of\\ Documents}{Number\\ of\\ Documents\\ with\\ t\\ in\\ it})$$\n",
    "\n",
    "Now that we have this, we can easily calculate _Inverse Document Frequency_.  In the cell below, complete the following function.  this function should take in the list of dictionaries, with each item in the list being a Bag of Words representing the words in a different song. The function should return a dictionary containing the inverse document frequency values for each word.  "
   ]
  },
  {
   "cell_type": "code",
   "execution_count": 91,
   "metadata": {},
   "outputs": [],
   "source": [
    "def inverse_document_frequency(list_of_dicts):\n",
    "    num_docs = len(list_of_dicts)\n",
    "    final_dict = {}\n",
    "    for dict in list_of_dicts:\n",
    "        for word in dict:\n",
    "            if word in final_dict.keys():\n",
    "                final_dict[word] = final_dict[word] + 1\n",
    "            else:\n",
    "                final_dict[word] = 1\n",
    "    for word in final_dict:\n",
    "        final_dict[word] = math.log(num_docs/final_dict[word])\n",
    "    return final_dict"
   ]
  },
  {
   "cell_type": "markdown",
   "metadata": {},
   "source": [
    "### Computing TF-IDF\n",
    "\n",
    "Now that we can compute both Term Frequency and Inverse Document Frequency, computing an overall TF-IDF value is simple! All we need to do is multiply the two values.  \n",
    "\n",
    "In the cell below, complete the `tf_idf()` function.  This function should take in a list of dictionaries, just as the `inverse_document_frequency()` function did.  This function return a new list of dictionaries, with each dictionary containing the tf-idf vectorized representation of a corresponding song document. \n",
    "\n",
    "**_NOTE:_** Each document should contain the full vocabulary of the entire combined corpus.  "
   ]
  },
  {
   "cell_type": "code",
   "execution_count": 92,
   "metadata": {},
   "outputs": [],
   "source": [
    "def tf_idf(list_of_dicts):\n",
    "    idf = inverse_document_frequency(list_of_dicts)\n",
    "    final_dict_list = []\n",
    "    for dict in list_of_dicts:\n",
    "        tf = term_frequency(dict)\n",
    "        tf_idf = dict.fromkeys(tf.keys(),0)\n",
    "        for word in tf.keys():\n",
    "            tf_idf[word] = tf[word]*idf[word]\n",
    "        final_dict_list.append(tf_idf)\n",
    "    return final_dict_list"
   ]
  },
  {
   "cell_type": "markdown",
   "metadata": {},
   "source": [
    "### Vectorizing All Documents\n",
    "\n",
    "Now that we've created all the necessary helper functions, we can load in all of our documents and run each through the vectorization pipeline we've just created.\n",
    "\n",
    "In the cell below, complete the `main` function.  This function should take in a list of file names (provided for you in the `filenames` list we created at the start), and then:\n",
    "\n",
    "1. Read in each document\n",
    "1. Tokenize each document\n",
    "1. Convert each document to a Bag of Words (dictionary representation)\n",
    "1. Return a list of dictionaries vectorized using tf-idf, where each dictionary is a vectorized representation of a document.  \n",
    "\n",
    "**_HINT:_** Remember that all files are stored in the `data/` directory.  Be sure to append this to the filename when reading in each file, otherwise the path won't be correct!"
   ]
  },
  {
   "cell_type": "code",
   "execution_count": 93,
   "metadata": {},
   "outputs": [
    {
     "name": "stdout",
     "output_type": "stream",
     "text": [
      "['day', 'cup', 'words', 'highway', 'gods', 'frozen', 'teach', 'plate', 'an', 'up']\n",
      "{'nightstand': 0.016551007036209892, 'with': 0.007659084868065693, 'yes': 0.012721464602177048, 'on': 0.0002833883667820468, 'to': 0.0005667767335640936, 'are': 0.005800122234799324, 'just': 0.00476003222201607, 'morning': 0.016551007036209892, 'the': 0.008978946381092538, 'late': 0.033102014072419784, 'me': 0.0012328373000785068, 'going': 0.0088919221681442, 'kitchen': 0.016551007036209892, 'way': 0.026607133797258254, 'im': 0.00476003222201607, 'starts': 0.025442929204354096, 'beer': 0.016551007036209892, 'say': 0.005800122234799324, 'busting': 0.016551007036209892, 'be': 0.007140048333024104, 'friends': 0.044459610840721, 'wanting': 0.016551007036209892, 'cowboys': 0.08275503518104947, 'all': 0.004931349200314027, 'doesnt': 0.012721464602177048, 'that': 0.006285262466764777, 'leave': 0.012721464602177048, 'sleep': 0.012721464602177048, 'who': 0.004411644730484926, 'theres': 0.005800122234799324, 'over': 0.015318169736131386, 'know': 0.001970579800766477, 'been': 0.01740036670439797, 'when': 0.003941159601532954, 'shirt': 0.016551007036209892, 'this': 0.002380016111008035, 'cause': 0.015318169736131386, 'have': 0.004411644730484926, 'out': 0.001970579800766477, 'working': 0.016551007036209892, 'it': 0.007397023800471042, 'soon': 0.033102014072419784, 'jack': 0.012721464602177048, 'guess': 0.016551007036209892, 'home': 0.01048132588334741, 'again': 0.0266757665044326, 'thats': 0.02297725460419708, 'how': 0.006605933710006855, 'lane': 0.016551007036209892, 'back': 0.0066517834493145635, 'is': 0.0012328373000785068, 'two': 0.007659084868065693, 'head': 0.0088919221681442, 'should': 0.02096265176669482, 'aching': 0.016551007036209892, 'in': 0.0005821022964520793, 'talking': 0.016551007036209892, 'ive': 0.007659084868065693, 'they': 0.0033029668550034275, 'for': 0.007140048333024104, 'my': 0.014280096666048209, 'breakfast': 0.016551007036209892, 'wearing': 0.016551007036209892, 'ends': 0.038164393806531145, 'foreman': 0.016551007036209892, 'will': 0.02096265176669482, 'work': 0.012721464602177048, 'were': 0.007659084868065693, 'goes': 0.033102014072419784, 'never': 0.010124759468222708, 'where': 0.0088919221681442, 'theyre': 0.0088919221681442, 'its': 0.011900080555040174, 'shes': 0.01048132588334741, 'road': 0.01048132588334741, 'keep': 0.007659084868065693, 'threatening': 0.016551007036209892, 'girl': 0.0066517834493145635, 'fun': 0.033102014072419784, 'yeah': 0.01740036670439797, 'and': 0.0022671069342563746, 'a': 0.0017957892762185076, 'begins': 0.038164393806531145, 'as': 0.026607133797258254, 'wait': 0.01048132588334741, 'party': 0.03144397765004223, 'buddies': 0.033102014072419784}\n"
     ]
    }
   ],
   "source": [
    "def main(filenames):\n",
    "    corpus = []\n",
    "    for file in filenames:\n",
    "        raw_text = open(file, 'r').read()\n",
    "        clean_text = clean_song(raw_text)\n",
    "        tokenized_text = tokenize(clean_text)\n",
    "        vectorized_text = count_vectorize(tokenized_text)\n",
    "        corpus.append(vectorized_text)\n",
    "    return tf_idf(corpus)\n",
    "\n",
    "tf_idf_all_docs = main(filenames)\n",
    "print(list(tf_idf_all_docs[0])[:10])\n",
    "print(tf_idf_all_docs[1])"
   ]
  },
  {
   "cell_type": "markdown",
   "metadata": {},
   "source": [
    "### Visualizing our Vectorizations\n",
    "\n",
    "Now that we have a tf-idf representation each document, we can move on to the fun part--visualizing everything!\n",
    "\n",
    "Let's investigate how many dimensions our data currently has.  In the cell below, examine our dataset to figure out how many dimensions our dataset has. \n",
    "\n",
    "**_HINT_**: Remember that every word is it's own dimension!"
   ]
  },
  {
   "cell_type": "code",
   "execution_count": 96,
   "metadata": {},
   "outputs": [
    {
     "name": "stdout",
     "output_type": "stream",
     "text": [
      "         ''  100  10s   20    4  500   83   87     8teen        9 ...   \\\n",
      "0  0.000000  0.0  0.0  0.0  0.0  0.0  0.0  0.0  0.100467  0.00702 ...    \n",
      "1  0.000000  0.0  0.0  0.0  0.0  0.0  0.0  0.0  0.000000  0.00000 ...    \n",
      "2  0.005014  0.0  0.0  0.0  0.0  0.0  0.0  0.0  0.000000  0.00000 ...    \n",
      "3  0.000000  0.0  0.0  0.0  0.0  0.0  0.0  0.0  0.000000  0.00000 ...    \n",
      "4  0.000000  0.0  0.0  0.0  0.0  0.0  0.0  0.0  0.000000  0.00000 ...    \n",
      "\n",
      "      young      your     youre  yourself  yous     youve  zero  zone  zoom  \\\n",
      "0  0.000000  0.000000  0.000000       0.0   0.0  0.000000   0.0   0.0   0.0   \n",
      "1  0.000000  0.000000  0.000000       0.0   0.0  0.000000   0.0   0.0   0.0   \n",
      "2  0.000000  0.000000  0.002854       0.0   0.0  0.000000   0.0   0.0   0.0   \n",
      "3  0.000000  0.000000  0.000000       0.0   0.0  0.000000   0.0   0.0   0.0   \n",
      "4  0.008546  0.002301  0.016510       0.0   0.0  0.026989   0.0   0.0   0.0   \n",
      "\n",
      "     ã  \n",
      "0  0.0  \n",
      "1  0.0  \n",
      "2  0.0  \n",
      "3  0.0  \n",
      "4  0.0  \n",
      "\n",
      "[5 rows x 1345 columns]\n",
      "Number of Dimensions: 1345\n",
      "(20, 1345)\n"
     ]
    }
   ],
   "source": [
    "df = pd.DataFrame(tf_idf_all_docs).fillna(0)\n",
    "print(df.head())\n",
    "num_dims = df.shape[1]\n",
    "print(\"Number of Dimensions: {}\".format(num_dims))\n",
    "print(df.shape)"
   ]
  },
  {
   "cell_type": "markdown",
   "metadata": {},
   "source": [
    "That's much too high-dimensional for us to visualize! In order to make it understandable to human eyes, we'll need to reduce dimensionality to 2 or 3 dimensions.  \n",
    "\n",
    "### Reducing Dimensionality\n",
    "\n",
    "To do this, we'll use a technique called **_t-SNE_** (short for _t-Stochastic Neighbors Embedding_).  This is too complex for us to code ourselves, so we'll make use of sklearn's implementation of it.  \n",
    "\n",
    "First, we need to pull the words out of the dictionaries stored in `tf_idf_all_docs` so that only the values remain, and store them in lists instead of dictionaries.  This is because the t-SNE object only works with Array-like objects, not dictionaries.  \n",
    "\n",
    "In the cell below, create a list of lists that contains a list representation of the values of each of the dictionaries stored in `tf_idf_all_docs`.  The same structure should remain--e.g. the first list should contain only the values that were in the 1st dictionary in `tf_idf_all_docs`, and so on. "
   ]
  },
  {
   "cell_type": "code",
   "execution_count": 99,
   "metadata": {},
   "outputs": [
    {
     "data": {
      "text/plain": [
       "[0.0,\n",
       " 0.0,\n",
       " 0.0,\n",
       " 0.0,\n",
       " 0.0,\n",
       " 0.0,\n",
       " 0.0,\n",
       " 0.0,\n",
       " 0.10046663112528628,\n",
       " 0.007020076503030628]"
      ]
     },
     "execution_count": 99,
     "metadata": {},
     "output_type": "execute_result"
    }
   ],
   "source": [
    "tf_idf_vals_list = [list(df.iloc[x]) for x in range(0,20)]\n",
    "    \n",
    "tf_idf_vals_list[0][:10]"
   ]
  },
  {
   "cell_type": "markdown",
   "metadata": {},
   "source": [
    "Now that we have only the values, we can use the `TSNE` object from `sklearn` to transform our data appropriately.  In the cell below, create a `TSNE` with `n_components=3` passed in as a parameter.  Then, use the created object's `fit_transform()` method to transform the data stored in `tf_idf_vals_list` into 3-dimensional data.  Then, inspect the newly transformed data to confirm that it has the correct dimensionality. "
   ]
  },
  {
   "cell_type": "code",
   "execution_count": 100,
   "metadata": {},
   "outputs": [
    {
     "data": {
      "text/plain": [
       "array([[ -251.48927  ,  -223.9049   ,   147.34079  ],\n",
       "       [ -169.09135  ,  -235.93497  ,  -150.42278  ],\n",
       "       [  124.93738  ,    56.016655 ,  -258.34048  ],\n",
       "       [  -46.818855 ,   -53.12266  ,    32.967457 ],\n",
       "       [  394.24927  ,    99.848015 ,  -119.189224 ],\n",
       "       [ -143.00076  ,   -15.212942 ,  -321.95276  ],\n",
       "       [ -752.88477  , -1674.2028   ,  1701.5796   ],\n",
       "       [  -52.703228 ,   100.180664 ,   281.4265   ],\n",
       "       [   77.131294 ,   564.2692   ,  -650.8306   ],\n",
       "       [  242.64914  ,   -81.206116 ,    -9.57234  ],\n",
       "       [  249.63504  ,   131.03755  ,   205.48392  ],\n",
       "       [  102.1486   ,  -301.8696   ,   -48.17965  ],\n",
       "       [  -52.122013 ,   287.04773  ,  -607.69684  ],\n",
       "       [  716.7473   ,  1359.8551   , -1224.6624   ],\n",
       "       [   74.52614  ,   213.1198   ,     4.3761487],\n",
       "       [   96.43451  ,  -206.42094  ,   799.88995  ],\n",
       "       [   60.685654 ,  -190.97272  ,   254.00504  ],\n",
       "       [ -313.25784  ,    64.91091  ,    65.48307  ],\n",
       "       [ -158.18694  ,   198.86583  ,  -134.0362   ],\n",
       "       [   -8.110951 ,  -372.0565   ,   482.52267  ]], dtype=float32)"
      ]
     },
     "execution_count": 100,
     "metadata": {},
     "output_type": "execute_result"
    }
   ],
   "source": [
    "t_sne_object_3d = TSNE(n_components = 3)\n",
    "transformed_data_3d = t_sne_object_3d.fit_transform(tf_idf_vals_list)\n",
    "transformed_data_3d"
   ]
  },
  {
   "cell_type": "markdown",
   "metadata": {},
   "source": [
    "We'll also want to check out how the visualization looks in 2d.  Repeat the process above, but this time, create a `TSNE` object with 2 components instead of 3.  Again, use `fit_transform()` to transform the data and store it in the variable below, and then inspect it to confirm the transformed data has only 2 dimensions. "
   ]
  },
  {
   "cell_type": "code",
   "execution_count": 101,
   "metadata": {},
   "outputs": [
    {
     "data": {
      "text/plain": [
       "array([[ -98.8901   , -104.939705 ],\n",
       "       [-151.64215  ,  -30.351007 ],\n",
       "       [ 159.64188  ,   13.350988 ],\n",
       "       [ 154.94144  ,  104.93205  ],\n",
       "       [  36.567844 ,   19.195635 ],\n",
       "       [ -90.015915 ,  157.12132  ],\n",
       "       [  15.775206 ,  -50.90583  ],\n",
       "       [  66.49917  , -114.354965 ],\n",
       "       [  78.48884  ,  150.15172  ],\n",
       "       [-145.63913  ,   82.71473  ],\n",
       "       [  -3.4511623,  170.11926  ],\n",
       "       [ -97.5211   ,   22.833796 ],\n",
       "       [ -27.187403 ,   23.98376  ],\n",
       "       [  88.05343  ,  -26.837393 ],\n",
       "       [ -55.287933 ,  -43.21768  ],\n",
       "       [ -15.728345 , -124.9247   ],\n",
       "       [  91.394936 ,   61.43208  ],\n",
       "       [  20.024729 ,   92.387245 ],\n",
       "       [ -53.55803  ,   90.81113  ],\n",
       "       [ 145.55959  ,  -77.51129  ]], dtype=float32)"
      ]
     },
     "execution_count": 101,
     "metadata": {},
     "output_type": "execute_result"
    }
   ],
   "source": [
    "t_sne_object_2d = TSNE(n_components = 2)\n",
    "transformed_data_2d = t_sne_object_2d.fit_transform(tf_idf_vals_list)\n",
    "transformed_data_2d"
   ]
  },
  {
   "cell_type": "markdown",
   "metadata": {},
   "source": [
    "Now, let's visualize everything!  Run the cell below to a 3D visualization of the songs."
   ]
  },
  {
   "cell_type": "code",
   "execution_count": 102,
   "metadata": {},
   "outputs": [
    {
     "data": {
      "image/png": "[encoded data removed]",
      "text/plain": [
       "<Figure size 720x360 with 1 Axes>"
      ]
     },
     "metadata": {
      "needs_background": "light"
     },
     "output_type": "display_data"
    },
    {
     "data": {
      "image/png": "[encoded data removed]",
      "text/plain": [
       "<Figure size 1440x720 with 1 Axes>"
      ]
     },
     "metadata": {
      "needs_background": "light"
     },
     "output_type": "display_data"
    }
   ],
   "source": [
    "kendrick_3d = transformed_data_3d[:10]\n",
    "k3_x = [i[0] for i in kendrick_3d]\n",
    "k3_y = [i[1] for i in kendrick_3d]\n",
    "k3_z = [i[2] for i in kendrick_3d]\n",
    "\n",
    "garth_3d = transformed_data_3d[10:]\n",
    "g3_x = [i[0] for i in garth_3d]\n",
    "g3_y = [i[1] for i in garth_3d]\n",
    "g3_z = [i[2] for i in garth_3d]\n",
    "\n",
    "fig = plt.figure(figsize=(10,5))\n",
    "ax = fig.add_subplot(111, projection='3d')\n",
    "ax.scatter(k3_x, k3_y, k3_z, c='b', s=60, label='Kendrick')\n",
    "ax.scatter(g3_x, g3_y, g3_z, c='red', s=60, label='Garth')\n",
    "ax.view_init(30, 10)\n",
    "ax.legend()\n",
    "plt.show()\n",
    "\n",
    "kendrick_2d = transformed_data_2d[:10]\n",
    "k2_x = [i[0] for i in kendrick_2d]\n",
    "k2_y = [i[1] for i in kendrick_2d]\n",
    "\n",
    "garth_2d = transformed_data_2d[10:]\n",
    "g2_x = [i[0] for i in garth_2d]\n",
    "g2_y = [i[1] for i in garth_2d]\n",
    "\n",
    "fig = plt.figure(figsize=(20,10))\n",
    "ax = fig.add_subplot(222)\n",
    "ax.scatter(k2_x, k2_y, c='b', label='Kendrick')\n",
    "ax.scatter(g2_x, g2_y, c='red', label='Garth')\n",
    "ax.legend()\n",
    "plt.show()"
   ]
  },
  {
   "cell_type": "markdown",
   "metadata": {},
   "source": [
    "Interesting! Take a crack at interpreting these graphs by answering the following question below:\n",
    "\n",
    "What does each graph mean? Do you find one graph more informative than the other? Do you think that this method shows us discernable differences between Kendrick Lamar songs and Garth Brooks songs?  Use the graphs and your understanding of TF-IDF to support your answer.  \n",
    "\n",
    "Write your answer to this question below this line:\n",
    "________________________________________________________________________________________________________________________________\n",
    "\n",
    "Both graphs show a basic trend among the red and blue dots, although the 3-dimensional graph is more informative than the 2-dimensional graph.  We see a separation between the two artists because they both have words that they use, but the other artist does not.  The words in each song that are common to both are reduced very small numbers or to 0, because of the log operation in the IDF function.  This means that the elements of each song vector with the highest values will be the ones that have words that are unique to that specific document, or at least are rarely used in others.  "
   ]
  },
  {
   "cell_type": "markdown",
   "metadata": {},
   "source": [
    "## Summary\n",
    "\n",
    "In this lab, we learned how to: \n",
    "* Tokenize a corpus of words and identify the different choices to be made while parsing them\n",
    "* Use a Count Vectorization strategy to create a Bag of Words\n",
    "* Use TF-IDF Vectorization with multiple documents to identify words that are important/unique to certain documents\n",
    "* Visualize and compare vectorized text documents"
   ]
  }
 ],
 "metadata": {
  "kernelspec": {
   "display_name": "Python 3",
   "language": "python",
   "name": "python3"
  },
  "language_info": {
   "codemirror_mode": {
    "name": "ipython",
    "version": 3
   },
   "file_extension": ".py",
   "mimetype": "text/x-python",
   "name": "python",
   "nbconvert_exporter": "python",
   "pygments_lexer": "ipython3",
   "version": "3.7.0"
  }
 },
 "nbformat": 4,
 "nbformat_minor": 2
}
